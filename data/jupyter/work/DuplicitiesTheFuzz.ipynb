{
 "cells": [
  {
   "cell_type": "code",
   "execution_count": 1,
   "metadata": {},
   "outputs": [
    {
     "name": "stdout",
     "output_type": "stream",
     "text": [
      "Requirement already satisfied: thefuzz in /opt/conda/lib/python3.9/site-packages (0.19.0)\n"
     ]
    }
   ],
   "source": [
    "import os\n",
    "import re\n",
    "from pyspark.sql import SparkSession\n",
    "from pyspark.sql.functions import to_timestamp\n",
    "\n",
    "from pyspark.sql.types import StructType, StructField, StringType, IntegerType\n",
    "os.environ['PYSPARK_SUBMIT_ARGS'] = '--driver-class-path /home/marcelo/libs/mysql-connector-java-8.0.19.jar --jars /home/marcelo/libs/mysql-connector-java-8.0.19.jar pyspark-shell'\n",
    "\n",
    "import findspark\n",
    "\n",
    "findspark.add_packages('mysql:mysql-connector-java:8.0.19')\n",
    "\n",
    "import sys\n",
    "!{sys.executable} -m pip install thefuzz\n",
    "\n"
   ]
  },
  {
   "cell_type": "code",
   "execution_count": 2,
   "metadata": {},
   "outputs": [],
   "source": [
    "spark = SparkSession \\\n",
    "    .builder \\\n",
    "    .appName('POC ETL') \\\n",
    "    .master(\"local[*]\") \\\n",
    "    .getOrCreate()"
   ]
  },
  {
   "cell_type": "markdown",
   "metadata": {},
   "source": [
    "### Reading Data From JDBC"
   ]
  },
  {
   "cell_type": "code",
   "execution_count": 53,
   "metadata": {},
   "outputs": [
    {
     "name": "stdout",
     "output_type": "stream",
     "text": [
      "+--------------------+--------------------+-----------------+---------+-------+-----------------+--------------------+\n",
      "|                  id|           person_id|            line1|    line2|zipcode|             city|             country|\n",
      "+--------------------+--------------------+-----------------+---------+-------+-----------------+--------------------+\n",
      "|00014071-9237-4c2...|4b33720c-9434-459...|       Olson Ramp|Suite 518|  67839|     Chelseaville|French Southern T...|\n",
      "|0003dc42-4a96-458...|271f4c7c-0d7e-4b9...|  Kenneth Squares|Suite 589|  56824|       Jeremybury|               Malta|\n",
      "|00041403-b684-439...|74de06cd-1dd1-4a2...|     Pierce Walks| Apt. 039|  02452| West Deborahport|            Tanzania|\n",
      "|00044b19-fd6c-467...|b01fac40-84ef-4ba...|    Hunter Bypass|Suite 718|  82920|      South Larry|              Guyana|\n",
      "|000b85a3-8119-41e...|00c80261-400a-46c...| Hernandez Hollow| Apt. 962|  15283|     Lake Natasha|             Bolivia|\n",
      "|000eb31b-5824-4a0...|92ef5699-65a9-422...|      Stone Brook| Apt. 871|  31550|West Michaelmouth|             Lebanon|\n",
      "|00139d84-df74-428...|b0a9cb20-b392-46d...|  George Parkways|Suite 804|  06855|      Barnettberg|             Somalia|\n",
      "|0013c3a5-179e-4cb...|5693dcf5-a73f-4c0...|   Martinez Brook|Suite 546|  64309|      Lindseybury|               Congo|\n",
      "|0014020c-88f9-4c3...|21f747ff-0ff3-4e0...|    Darrell Lakes| Apt. 120|  88612|   East Ritamouth|           Lithuania|\n",
      "|0016ec70-1c91-41a...|485f8026-2c1c-4e3...|     Barrett Fall|Suite 102|  02393|      Phillipstad|          Montenegro|\n",
      "|00175383-792c-49a...|fdaaf31c-fe19-4e7...|Dickson Stravenue| Apt. 748|  98268|    New Tracybury|                Oman|\n",
      "|0017a5ae-80e4-4d4...|ea21ea29-16ff-4f8...|    Tina Crescent|Suite 667|  31629| East Staceymouth|             Croatia|\n",
      "|00194a98-0336-4c7...|b629bb3f-9f9a-4ed...| Gonzalez Station|Suite 728|  65671|        Wendyport|              Zambia|\n",
      "|001988e6-a523-429...|9325f3e1-dd84-4a1...|     Debra Square|Suite 519|  40741|Lake Madisonshire|             Bahamas|\n",
      "|001c6d59-7fee-496...|2c8a1b35-b9e8-4d5...|      Floyd Locks|Suite 771|  42670|   Lake Susanfurt|              Jordan|\n",
      "|001ee026-a95c-4f2...|0df4643f-921b-458...|       Traci View| Apt. 196|  51157|     Michaelhaven|               Aruba|\n",
      "|001f7d4b-5b3e-49a...|04676ccf-4d61-4b6...|Schaefer Turnpike| Apt. 424|  91185|     Port Yesenia|          Uzbekistan|\n",
      "|00204a47-973b-4eb...|cec08130-45cd-4a9...|      Dustin Dale|Suite 070|  42962|       West Frank|         Afghanistan|\n",
      "|0023583c-39a5-459...|fa4de676-7387-4c9...|     Beltran Walk| Apt. 882|  85872|     Matthewburgh|             Andorra|\n",
      "|0029ccbe-8755-4f6...|0ba5f55c-4fa5-4b5...|     Patrick Port| Apt. 458|  81877|       Austinstad|            Suriname|\n",
      "+--------------------+--------------------+-----------------+---------+-------+-----------------+--------------------+\n",
      "only showing top 20 rows\n",
      "\n",
      "+--------------------+--------------------+------------+\n",
      "|                  id|           person_id|phone_number|\n",
      "+--------------------+--------------------+------------+\n",
      "|000548ba-d6e0-4fc...|6abbd2e0-aa20-4e7...|    51134287|\n",
      "|000636e1-a26c-433...|41d36288-a1bc-4c1...|    48831355|\n",
      "|000ad3f8-ce71-4e6...|07621734-a12e-400...|    43353525|\n",
      "|000b7d50-c24c-460...|149e6088-09d3-414...|    25230675|\n",
      "|00188328-28db-49e...|3eb2450b-fe49-43b...|    59247165|\n",
      "|001b2eec-a07d-485...|e561a558-dd0b-417...|    84902158|\n",
      "|001f1a2d-d387-447...|b605cb00-541b-4e5...|    82054701|\n",
      "|00208e7a-bb73-4b9...|bc205412-020b-40b...|    51560594|\n",
      "|0021f296-f4de-485...|d0a8e8d1-b5ab-493...|    57571831|\n",
      "|0025ab9f-a670-4cd...|49d7e346-be0e-4a8...|    32079352|\n",
      "|0026eb31-b489-487...|d3600d96-cf72-48a...|    44601733|\n",
      "|00271a30-613f-4e3...|a3e25fe6-ae69-448...|    71437166|\n",
      "|002a4761-4926-425...|2ba2c818-a069-426...|    10997160|\n",
      "|002b1af6-c6a9-43e...|43cdfb14-1833-456...|    29006010|\n",
      "|00302908-4cca-4a9...|bfe4175f-9763-47e...|    60884223|\n",
      "|003155b9-5843-420...|1ab69e94-4be6-4cb...|    47558599|\n",
      "|0031f4dd-c9dd-4cb...|10f9cbe5-a2f2-4e6...|    39389283|\n",
      "|0035eca5-e5ef-407...|dcdacc57-9a9b-40d...|    35171971|\n",
      "|0038a16d-169e-422...|f3903f05-db3b-4b9...|    45092599|\n",
      "|003bf13a-5491-4f7...|af95cfff-dc85-41f...|    78444684|\n",
      "+--------------------+--------------------+------------+\n",
      "only showing top 20 rows\n",
      "\n"
     ]
    }
   ],
   "source": [
    "address_df = spark.read.format(\"jdbc\") \\\n",
    "    .option(\"url\", \"jdbc:mysql://mysql:3306/persondb\") \\\n",
    "    .option(\"driver\", \"com.mysql.jdbc.Driver\").option(\"dbtable\", \"address\") \\\n",
    "    .option(\"user\", \"root\").option(\"password\", \"123456\").load()\n",
    "\n",
    "phone_df = spark.read.format(\"jdbc\") \\\n",
    "    .option(\"url\", \"jdbc:mysql://mysql:3306/persondb\") \\\n",
    "    .option(\"driver\", \"com.mysql.jdbc.Driver\").option(\"dbtable\", \"phone\") \\\n",
    "    .option(\"user\", \"root\").option(\"password\", \"123456\").load()\n",
    "\n",
    "\n",
    "address_df.show()\n",
    "\n",
    "phone_df.show()"
   ]
  },
  {
   "cell_type": "markdown",
   "metadata": {},
   "source": [
    "### ETL"
   ]
  },
  {
   "cell_type": "code",
   "execution_count": 55,
   "metadata": {},
   "outputs": [
    {
     "name": "stdout",
     "output_type": "stream",
     "text": [
      "+--------------------+--------------------+--------------+--------------------+\n",
      "|           person_id|           addresses|addresses_size|           fuzz_info|\n",
      "+--------------------+--------------------+--------------+--------------------+\n",
      "|003de947-d36e-401...|[ANTHONY ROAD,APT...|             2|{100, f7095ccf6d2...|\n",
      "|0043773f-249c-483...|[GIBSON KEY,APT. ...|             2|{100, 7ec22eea166...|\n",
      "|004e1ea4-f969-4c3...|[CRUZ COMMON,SUIT...|             2|{100, 78c2674500e...|\n",
      "|0057ea2c-5124-450...|[ANTHONY TRACE,AP...|             2|{100, 151d0398076...|\n",
      "|005c70ef-a685-498...|[HAYES SPUR,APT. ...|             2|{100, 696df0905be...|\n",
      "|006a9878-cfff-4f7...|[JACOB FORK,SUITE...|             2|{100, 00cececfc06...|\n",
      "|00724e3e-c0b9-4ec...|[BRANCH THROUGHWA...|             2|{100, 6b2f0e22b9b...|\n",
      "|0086d2c6-d5b2-45f...|[SHEILA FLATS,APT...|             2|{100, af04db6ed2c...|\n",
      "|008cb3f9-27c9-421...|[WANG TRAIL,SUITE...|             2|{100, 5312fe883e0...|\n",
      "|00a542e5-02c4-4ba...|[GARCIA OVERPASS,...|             2|{100, 9cf5ea4a68f...|\n",
      "|00d07698-45aa-48c...|[KELLY WAY,APT. 4...|             2|{100, 529381c639e...|\n",
      "|00e5cb55-bc92-4b6...|[MUNOZ RIDGE,APT....|             2|{100, 9af355f1aa3...|\n",
      "|00f584c4-eed6-4f5...|[JACKSON SHORE,AP...|             2|{100, 9ad2a721767...|\n",
      "|01011e55-4472-45a...|[MURPHY CIRCLE,SU...|             2|{100, 7a453cf050e...|\n",
      "|01026088-8318-495...|[STEVEN LANDING,A...|             2|{100, 8a5ce52b435...|\n",
      "|0109d114-9e9e-4fe...|[BALL GATEWAY,APT...|             2|{100, 53f23a59613...|\n",
      "|010c75ee-9f0c-442...|[ALEX ORCHARD,SUI...|             2|{100, eb42079d43b...|\n",
      "|0133cea6-f207-4c0...|[LARRY STRAVENUE,...|             2|{100, 1f7bae3fc34...|\n",
      "|013ee771-4784-411...|[ELIZABETH ROUTE,...|             2|{100, 6e635cb6b3f...|\n",
      "|015e8c9c-3f5d-470...|[EDWARD COURSE,AP...|             2|{100, fe753d7576c...|\n",
      "+--------------------+--------------------+--------------+--------------------+\n",
      "only showing top 20 rows\n",
      "\n"
     ]
    }
   ],
   "source": [
    "# Group and create 2 columns to compare\n",
    "from pyspark.sql.functions import udf\n",
    "from thefuzz import fuzz\n",
    "from thefuzz import process\n",
    "from pyspark.sql import functions as F\n",
    "from itertools import combinations\n",
    "from IPython.display import display\n",
    "from pyspark.sql.functions import col, size\n",
    "\n",
    "\n",
    "# Create new column to compare\n",
    "import hashlib\n",
    "from pyspark.sql.functions import concat_ws\n",
    "from pyspark.sql.functions import upper\n",
    "from pyspark.sql.types import StructType, StructField, IntegerType, StringType\n",
    "\n",
    "\n",
    "def md5_str(val):\n",
    "    result = hashlib.md5(val.encode())\n",
    "    return str(result.hexdigest())\n",
    "\n",
    "@udf(returnType=StringType())\n",
    "def md5_udf_func(val):\n",
    "    return md5(val)\n",
    "\n",
    "\n",
    "@udf(returnType=StructType([\n",
    "    StructField(\"ratio\", IntegerType(), False),\n",
    "    StructField(\"md5_elem_1\", StringType(), False),\n",
    "    StructField(\"md5_elem_2\", StringType(), False)\n",
    "    ])\n",
    ")\n",
    "def fuzz_udf_func(arr):\n",
    "    # return type(arr)\n",
    "    combinations_elements = list(combinations(arr, 2))\n",
    "    max_ratio = -1\n",
    "    md5_address_1 = \"\"\n",
    "    md5_address_2 = \"\"\n",
    "    for elem in combinations_elements:\n",
    "        ratio = fuzz.ratio(elem[0], elem[1])\n",
    "        if ratio > max_ratio:\n",
    "            max_ratio = ratio\n",
    "            md5_elem_1 = md5_str(elem[0])\n",
    "            md5_elem_2 = md5_str(elem[1])\n",
    "    return (max_ratio, md5_elem_1, md5_elem_2)\n",
    "\n",
    "\n",
    "address_df = address_df.withColumn(\"complete_address\", concat_ws(\",\",\"line1\",'line2','zipcode','city','country'))\n",
    "address_df = address_df.withColumn(\"complete_address\", upper('complete_address')).withColumn(\"md5_complete_address\", md5_udf_func('complete_address'))\n",
    "\n",
    "\n",
    "addresses_grouped_df = address_df.groupBy('person_id').agg(F.collect_list(\"complete_address\").alias('addresses'))\n",
    "addresses_grouped_df = addresses_grouped_df.withColumn('addresses_size', size(\"addresses\"))\n",
    "addresses_grouped_df = addresses_grouped_df.where(col(\"addresses_size\") > 1)\n",
    "addresses_grouped_df = addresses_grouped_df.withColumn(\"fuzz_info\", fuzz_udf_func('addresses'))\n",
    "addresses_grouped_df.show()\n"
   ]
  },
  {
   "cell_type": "code",
   "execution_count": 56,
   "metadata": {},
   "outputs": [
    {
     "name": "stdout",
     "output_type": "stream",
     "text": [
      "+--------------------+-----+--------------------+--------------------+\n",
      "|           person_id|ratio|          md5_elem_1|          md5_elem_2|\n",
      "+--------------------+-----+--------------------+--------------------+\n",
      "|003de947-d36e-401...|  100|f7095ccf6d282c6e9...|f7095ccf6d282c6e9...|\n",
      "|0043773f-249c-483...|  100|7ec22eea166a33eb9...|7ec22eea166a33eb9...|\n",
      "|004e1ea4-f969-4c3...|  100|78c2674500e560c8f...|78c2674500e560c8f...|\n",
      "|0057ea2c-5124-450...|  100|151d039807625d401...|151d039807625d401...|\n",
      "|005c70ef-a685-498...|  100|696df0905be0dd8f2...|696df0905be0dd8f2...|\n",
      "|006a9878-cfff-4f7...|  100|00cececfc06df3e38...|00cececfc06df3e38...|\n",
      "|00724e3e-c0b9-4ec...|  100|6b2f0e22b9bb07e98...|6b2f0e22b9bb07e98...|\n",
      "|0086d2c6-d5b2-45f...|  100|af04db6ed2cbee595...|af04db6ed2cbee595...|\n",
      "|008cb3f9-27c9-421...|  100|5312fe883e0ad2551...|5312fe883e0ad2551...|\n",
      "|00a542e5-02c4-4ba...|  100|9cf5ea4a68fd5d2af...|9cf5ea4a68fd5d2af...|\n",
      "|00d07698-45aa-48c...|  100|529381c639ecf4f2c...|529381c639ecf4f2c...|\n",
      "|00e5cb55-bc92-4b6...|  100|9af355f1aa375a936...|9af355f1aa375a936...|\n",
      "|00f584c4-eed6-4f5...|  100|9ad2a721767fc79ba...|9ad2a721767fc79ba...|\n",
      "|01011e55-4472-45a...|  100|7a453cf050e19b838...|7a453cf050e19b838...|\n",
      "|01026088-8318-495...|  100|8a5ce52b4359a52d0...|8a5ce52b4359a52d0...|\n",
      "|0109d114-9e9e-4fe...|  100|53f23a596131bb8e6...|53f23a596131bb8e6...|\n",
      "|010c75ee-9f0c-442...|  100|eb42079d43b5ae37b...|eb42079d43b5ae37b...|\n",
      "|0133cea6-f207-4c0...|  100|1f7bae3fc34f7e32e...|1f7bae3fc34f7e32e...|\n",
      "|013ee771-4784-411...|  100|6e635cb6b3f1eac1e...|6e635cb6b3f1eac1e...|\n",
      "|015e8c9c-3f5d-470...|  100|fe753d7576c2a6014...|fe753d7576c2a6014...|\n",
      "+--------------------+-----+--------------------+--------------------+\n",
      "only showing top 20 rows\n",
      "\n"
     ]
    }
   ],
   "source": [
    "addresses_grouped_df.select(\"person_id\", \"fuzz_info.ratio\", \"fuzz_info.md5_elem_1\", \"fuzz_info.md5_elem_2\").show()"
   ]
  },
  {
   "cell_type": "code",
   "execution_count": 57,
   "metadata": {},
   "outputs": [],
   "source": [
    "addresses_grouped_df.write.mode('overwrite').parquet(\"identical_addresses\")"
   ]
  },
  {
   "cell_type": "code",
   "execution_count": 110,
   "metadata": {},
   "outputs": [],
   "source": []
  },
  {
   "cell_type": "code",
   "execution_count": null,
   "metadata": {},
   "outputs": [],
   "source": []
  }
 ],
 "metadata": {
  "kernelspec": {
   "display_name": "Python 3 (ipykernel)",
   "language": "python",
   "name": "python3"
  },
  "language_info": {
   "codemirror_mode": {
    "name": "ipython",
    "version": 3
   },
   "file_extension": ".py",
   "mimetype": "text/x-python",
   "name": "python",
   "nbconvert_exporter": "python",
   "pygments_lexer": "ipython3",
   "version": "3.9.12"
  }
 },
 "nbformat": 4,
 "nbformat_minor": 4
}
