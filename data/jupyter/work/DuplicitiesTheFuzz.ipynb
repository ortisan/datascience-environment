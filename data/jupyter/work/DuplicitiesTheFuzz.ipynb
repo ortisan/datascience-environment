{
 "cells": [
  {
   "cell_type": "code",
   "execution_count": 1,
   "metadata": {},
   "outputs": [
    {
     "name": "stderr",
     "output_type": "stream",
     "text": [
      "/opt/conda/lib/python3.9/site-packages/thefuzz/fuzz.py:11: UserWarning: Using slow pure-python SequenceMatcher. Install python-Levenshtein to remove this warning\n",
      "  warnings.warn('Using slow pure-python SequenceMatcher. Install python-Levenshtein to remove this warning')\n"
     ]
    },
    {
     "name": "stdout",
     "output_type": "stream",
     "text": [
      "Requirement already satisfied: thefuzz in /opt/conda/lib/python3.9/site-packages (0.19.0)\n"
     ]
    }
   ],
   "source": [
    "import os\n",
    "import re\n",
    "import findspark\n",
    "from pyspark.sql import SparkSession\n",
    "from pyspark.sql import functions as F\n",
    "from pyspark.sql.functions import col, concat_ws, explode, size, to_timestamp, udf, upper\n",
    "from pyspark.sql.types import ArrayType, StructType, StructField, IntegerType, StringType\n",
    "\n",
    "from itertools import combinations\n",
    "import hashlib\n",
    "from thefuzz import fuzz\n",
    "from thefuzz import process\n",
    "\n",
    "\n",
    "# Import java packages\n",
    "os.environ['PYSPARK_SUBMIT_ARGS'] = '--driver-class-path /home/marcelo/libs/mysql-connector-java-8.0.19.jar --jars /home/marcelo/libs/mysql-connector-java-8.0.19.jar pyspark-shell'\n",
    "findspark.add_packages('mysql:mysql-connector-java:8.0.19')\n",
    "\n",
    "# Install packages\n",
    "import sys\n",
    "!{sys.executable} -m pip install thefuzz"
   ]
  },
  {
   "cell_type": "code",
   "execution_count": 2,
   "metadata": {},
   "outputs": [],
   "source": [
    "spark = SparkSession \\\n",
    "    .builder \\\n",
    "    .appName('POC ETL') \\\n",
    "    .master(\"local[*]\") \\\n",
    "    .getOrCreate()"
   ]
  },
  {
   "cell_type": "markdown",
   "metadata": {},
   "source": [
    "### Reading Data From JDBC"
   ]
  },
  {
   "cell_type": "code",
   "execution_count": 3,
   "metadata": {},
   "outputs": [
    {
     "name": "stdout",
     "output_type": "stream",
     "text": [
      "root\n",
      " |-- id: string (nullable = true)\n",
      " |-- person_id: string (nullable = true)\n",
      " |-- line1: string (nullable = true)\n",
      " |-- line2: string (nullable = true)\n",
      " |-- zipcode: string (nullable = true)\n",
      " |-- city: string (nullable = true)\n",
      " |-- country: string (nullable = true)\n",
      "\n",
      "+--------------------+--------------------+----------------+---------+-------+----------------+--------------------+\n",
      "|                  id|           person_id|           line1|    line2|zipcode|            city|             country|\n",
      "+--------------------+--------------------+----------------+---------+-------+----------------+--------------------+\n",
      "|0000dc26-2261-429...|3a3d56e0-710c-4f7...|        Lee Rest|Suite 902|  03271|  East Erikhaven|               Haiti|\n",
      "|0000eb31-0798-4bf...|319a45e6-7fa1-42e...|    Jones Drives|Suite 549|  06339|   North Vanessa|              Greece|\n",
      "|00010a32-d32f-4ad...|8bf4fc7d-b08b-49a...|    Johnson Fort|Suite 517|  61279| Port Paulahaven|          Micronesia|\n",
      "|00014071-9237-4c2...|4b33720c-9434-459...|      Olson Ramp|Suite 518|  67839|    Chelseaville|French Southern T...|\n",
      "|0001b7d5-82a6-40d...|ab9623f4-4888-4e1...| Roberts Circles| Apt. 561|  22238|     Ryanchester|         El Salvador|\n",
      "|0003367e-da87-440...|15869f6e-0fc4-4a3...|    Cole Village| Apt. 101|  13327|        Tonyaton|           Sri Lanka|\n",
      "|0003dc42-4a96-458...|271f4c7c-0d7e-4b9...| Kenneth Squares|Suite 589|  56824|      Jeremybury|               Malta|\n",
      "|0003e77d-37d3-4f3...|3c5a147a-885a-4c0...|Clements Squares|Suite 697|  01068| Harrisonchester|               Haiti|\n",
      "|0003f69d-ed91-4c7...|01f37308-aab7-47e...|Susan Expressway| Apt. 823|  16629|    New Johnbury|            Guernsey|\n",
      "|00041403-b684-439...|74de06cd-1dd1-4a2...|    Pierce Walks| Apt. 039|  02452|West Deborahport|            Tanzania|\n",
      "+--------------------+--------------------+----------------+---------+-------+----------------+--------------------+\n",
      "only showing top 10 rows\n",
      "\n"
     ]
    }
   ],
   "source": [
    "address_df = spark.read.format(\"jdbc\") \\\n",
    "    .option(\"url\", \"jdbc:mysql://mysql:3306/persondb\") \\\n",
    "    .option(\"driver\", \"com.mysql.jdbc.Driver\").option(\"dbtable\", \"address\") \\\n",
    "    .option(\"user\", \"root\").option(\"password\", \"123456\").load()\n",
    "\n",
    "address_df.printSchema()\n",
    "address_df.show(10)"
   ]
  },
  {
   "cell_type": "markdown",
   "metadata": {},
   "source": [
    "### ETL"
   ]
  },
  {
   "cell_type": "code",
   "execution_count": 4,
   "metadata": {},
   "outputs": [],
   "source": [
    "def md5_str(val):\n",
    "    result = hashlib.md5(val.encode())\n",
    "    return str(result.hexdigest())\n",
    "\n",
    "@udf(returnType=StringType())\n",
    "def md5_udf_func(val):\n",
    "    return md5_str(val)\n",
    "\n",
    "\n",
    "@udf(returnType=ArrayType(StructType([\n",
    "    StructField(\"ratio\", IntegerType(), False),\n",
    "    StructField(\"md5_pair_0\", StringType(), False),\n",
    "    StructField(\"md5_pair_1\", StringType(), False)\n",
    "    ]))\n",
    ")\n",
    "def fuzz_udf_func(arr):\n",
    "    return [[fuzz.ratio(comb[0], comb[1]), md5_str(comb[0]), md5_str(comb[1])] for comb in list(combinations(arr, 2))\n",
    "]"
   ]
  },
  {
   "cell_type": "code",
   "execution_count": 5,
   "metadata": {},
   "outputs": [
    {
     "name": "stdout",
     "output_type": "stream",
     "text": [
      "root\n",
      " |-- id: string (nullable = true)\n",
      " |-- person_id: string (nullable = true)\n",
      " |-- line1: string (nullable = true)\n",
      " |-- line2: string (nullable = true)\n",
      " |-- zipcode: string (nullable = true)\n",
      " |-- city: string (nullable = true)\n",
      " |-- country: string (nullable = true)\n",
      " |-- complete_address: string (nullable = false)\n",
      " |-- md5: string (nullable = true)\n",
      "\n",
      "+--------------------+--------------------+----------------+---------+-------+----------------+--------------------+--------------------+--------------------+\n",
      "|                  id|           person_id|           line1|    line2|zipcode|            city|             country|    complete_address|                 md5|\n",
      "+--------------------+--------------------+----------------+---------+-------+----------------+--------------------+--------------------+--------------------+\n",
      "|0000dc26-2261-429...|3a3d56e0-710c-4f7...|        Lee Rest|Suite 902|  03271|  East Erikhaven|               Haiti|LEE REST,SUITE 90...|32ef775716b39f6b6...|\n",
      "|0000eb31-0798-4bf...|319a45e6-7fa1-42e...|    Jones Drives|Suite 549|  06339|   North Vanessa|              Greece|JONES DRIVES,SUIT...|0eb583f13fa913526...|\n",
      "|00010a32-d32f-4ad...|8bf4fc7d-b08b-49a...|    Johnson Fort|Suite 517|  61279| Port Paulahaven|          Micronesia|JOHNSON FORT,SUIT...|a295ea20967e84633...|\n",
      "|00014071-9237-4c2...|4b33720c-9434-459...|      Olson Ramp|Suite 518|  67839|    Chelseaville|French Southern T...|OLSON RAMP,SUITE ...|8661b9c32a67a8d4d...|\n",
      "|0001b7d5-82a6-40d...|ab9623f4-4888-4e1...| Roberts Circles| Apt. 561|  22238|     Ryanchester|         El Salvador|ROBERTS CIRCLES,A...|93b0e9a4767dc67b8...|\n",
      "|0003367e-da87-440...|15869f6e-0fc4-4a3...|    Cole Village| Apt. 101|  13327|        Tonyaton|           Sri Lanka|COLE VILLAGE,APT....|228da08b6d6ecde5f...|\n",
      "|0003dc42-4a96-458...|271f4c7c-0d7e-4b9...| Kenneth Squares|Suite 589|  56824|      Jeremybury|               Malta|KENNETH SQUARES,S...|9c87d58a7a2082265...|\n",
      "|0003e77d-37d3-4f3...|3c5a147a-885a-4c0...|Clements Squares|Suite 697|  01068| Harrisonchester|               Haiti|CLEMENTS SQUARES,...|09cd35454c0c4b014...|\n",
      "|0003f69d-ed91-4c7...|01f37308-aab7-47e...|Susan Expressway| Apt. 823|  16629|    New Johnbury|            Guernsey|SUSAN EXPRESSWAY,...|1911c3bd6b65424e1...|\n",
      "|00041403-b684-439...|74de06cd-1dd1-4a2...|    Pierce Walks| Apt. 039|  02452|West Deborahport|            Tanzania|PIERCE WALKS,APT....|a6a7e555ff9b11994...|\n",
      "+--------------------+--------------------+----------------+---------+-------+----------------+--------------------+--------------------+--------------------+\n",
      "only showing top 10 rows\n",
      "\n"
     ]
    }
   ],
   "source": [
    "address_df = address_df.withColumn(\"complete_address\", concat_ws(\",\",\"line1\",'line2','zipcode','city','country'))\n",
    "address_df = address_df.withColumn(\"complete_address\", upper('complete_address')).withColumn(\"md5\", md5_udf_func('complete_address'))\n",
    "address_df.printSchema()\n",
    "address_df.show(10)"
   ]
  },
  {
   "cell_type": "markdown",
   "metadata": {},
   "source": [
    "### Grouping"
   ]
  },
  {
   "cell_type": "code",
   "execution_count": 6,
   "metadata": {},
   "outputs": [
    {
     "name": "stdout",
     "output_type": "stream",
     "text": [
      "root\n",
      " |-- person_id: string (nullable = true)\n",
      " |-- addresses: array (nullable = false)\n",
      " |    |-- element: string (containsNull = false)\n",
      " |-- addresses_size: integer (nullable = false)\n",
      " |-- fuzz_info: array (nullable = true)\n",
      " |    |-- element: struct (containsNull = true)\n",
      " |    |    |-- ratio: integer (nullable = false)\n",
      " |    |    |-- md5_pair_0: string (nullable = false)\n",
      " |    |    |-- md5_pair_1: string (nullable = false)\n",
      "\n",
      "+--------------------+--------------------+--------------+--------------------+\n",
      "|           person_id|           addresses|addresses_size|           fuzz_info|\n",
      "+--------------------+--------------------+--------------+--------------------+\n",
      "|00127c8f-5fd6-433...|[KEITH TUNNEL,SUI...|             6|[{100, 052e9e002a...|\n",
      "|0035c04a-ea53-46b...|[MICHELLE ISLANDS...|             6|[{100, 25cabe6384...|\n",
      "|003de947-d36e-401...|[ANTHONY ROAD,APT...|             2|[{100, f7095ccf6d...|\n",
      "|0042d523-9336-4dd...|[WHEELER STREAM,S...|             6|[{100, fc5f0ab6f9...|\n",
      "|004a303a-f92c-48d...|[KIMBERLY STATION...|             6|[{100, 06bdc7537d...|\n",
      "|004e1ea4-f969-4c3...|[CRUZ COMMON,SUIT...|             2|[{100, 78c2674500...|\n",
      "|005d0a61-da82-4a3...|[WAYNE RIVER,APT....|             6|[{100, d1cee2d66b...|\n",
      "|008cb3f9-27c9-421...|[WANG TRAIL,SUITE...|             2|[{100, 5312fe883e...|\n",
      "|0094b2c4-1786-4c1...|[BLAKE STREETS,AP...|             6|[{100, cfd89b4431...|\n",
      "|00bc62f5-ab3b-400...|[ROBERT FLAT,APT....|             6|[{100, e695d68d8a...|\n",
      "+--------------------+--------------------+--------------+--------------------+\n",
      "only showing top 10 rows\n",
      "\n",
      "+--------------------+--------------------+--------------------+--------------------+\n",
      "|           person_id|               ratio|          md5_pair_0|          md5_pair_1|\n",
      "+--------------------+--------------------+--------------------+--------------------+\n",
      "|00127c8f-5fd6-433...|[100, 100, 100, 1...|[052e9e002ae645dd...|[052e9e002ae645dd...|\n",
      "|0035c04a-ea53-46b...|[100, 100, 100, 1...|[25cabe638456feca...|[25cabe638456feca...|\n",
      "|003de947-d36e-401...|               [100]|[f7095ccf6d282c6e...|[f7095ccf6d282c6e...|\n",
      "|0042d523-9336-4dd...|[100, 100, 100, 1...|[fc5f0ab6f9a6a065...|[fc5f0ab6f9a6a065...|\n",
      "|004a303a-f92c-48d...|[100, 100, 100, 1...|[06bdc7537d289769...|[06bdc7537d289769...|\n",
      "|004e1ea4-f969-4c3...|               [100]|[78c2674500e560c8...|[78c2674500e560c8...|\n",
      "|005d0a61-da82-4a3...|[100, 100, 100, 1...|[d1cee2d66bb3f644...|[d1cee2d66bb3f644...|\n",
      "|008cb3f9-27c9-421...|               [100]|[5312fe883e0ad255...|[5312fe883e0ad255...|\n",
      "|0094b2c4-1786-4c1...|[100, 100, 100, 1...|[cfd89b44314ac158...|[cfd89b44314ac158...|\n",
      "|00bc62f5-ab3b-400...|[100, 100, 100, 1...|[e695d68d8a92e631...|[e695d68d8a92e631...|\n",
      "+--------------------+--------------------+--------------------+--------------------+\n",
      "only showing top 10 rows\n",
      "\n"
     ]
    }
   ],
   "source": [
    "addresses_grouped_df = address_df.groupBy('person_id').agg(F.collect_list(\"complete_address\").alias('addresses'))\n",
    "addresses_grouped_df = addresses_grouped_df.withColumn('addresses_size', size(\"addresses\"))\n",
    "addresses_grouped_df = addresses_grouped_df.where(col(\"addresses_size\") > 1)\n",
    "addresses_grouped_df = addresses_grouped_df.withColumn(\"fuzz_info\", fuzz_udf_func('addresses'))\n",
    "addresses_grouped_df.printSchema()\n",
    "addresses_grouped_df.show(10)\n",
    "addresses_grouped_df.select(\"person_id\", \"fuzz_info.ratio\", \"fuzz_info.md5_pair_0\", \"fuzz_info.md5_pair_1\").show(10)"
   ]
  },
  {
   "cell_type": "markdown",
   "metadata": {},
   "source": [
    "### Normalize"
   ]
  },
  {
   "cell_type": "code",
   "execution_count": 7,
   "metadata": {},
   "outputs": [
    {
     "name": "stdout",
     "output_type": "stream",
     "text": [
      "root\n",
      " |-- person_id: string (nullable = true)\n",
      " |-- fuzz_info: struct (nullable = true)\n",
      " |    |-- ratio: integer (nullable = false)\n",
      " |    |-- md5_pair_0: string (nullable = false)\n",
      " |    |-- md5_pair_1: string (nullable = false)\n",
      "\n",
      "+--------------------+--------------------+\n",
      "|           person_id|           fuzz_info|\n",
      "+--------------------+--------------------+\n",
      "|00127c8f-5fd6-433...|{100, 052e9e002ae...|\n",
      "|00127c8f-5fd6-433...|{100, 052e9e002ae...|\n",
      "|00127c8f-5fd6-433...|{100, 052e9e002ae...|\n",
      "|00127c8f-5fd6-433...|{100, 052e9e002ae...|\n",
      "|00127c8f-5fd6-433...|{100, 052e9e002ae...|\n",
      "|00127c8f-5fd6-433...|{100, 052e9e002ae...|\n",
      "|00127c8f-5fd6-433...|{100, 052e9e002ae...|\n",
      "|00127c8f-5fd6-433...|{100, 052e9e002ae...|\n",
      "|00127c8f-5fd6-433...|{100, 052e9e002ae...|\n",
      "|00127c8f-5fd6-433...|{100, 052e9e002ae...|\n",
      "+--------------------+--------------------+\n",
      "only showing top 10 rows\n",
      "\n"
     ]
    }
   ],
   "source": [
    "addresses_grouped_norm_df = addresses_grouped_df.select(\"person_id\", explode(\"fuzz_info\").alias('fuzz_info'))\n",
    "addresses_grouped_norm_df.printSchema()\n",
    "addresses_grouped_norm_df.show(10)"
   ]
  },
  {
   "cell_type": "markdown",
   "metadata": {},
   "source": [
    "### Joining dataframes"
   ]
  },
  {
   "cell_type": "code",
   "execution_count": 8,
   "metadata": {},
   "outputs": [
    {
     "name": "stdout",
     "output_type": "stream",
     "text": [
      "root\n",
      " |-- fuzz_info: struct (nullable = true)\n",
      " |    |-- ratio: integer (nullable = false)\n",
      " |    |-- md5_pair_0: string (nullable = false)\n",
      " |    |-- md5_pair_1: string (nullable = false)\n",
      " |-- id: string (nullable = true)\n",
      " |-- person_id: string (nullable = true)\n",
      " |-- line1: string (nullable = true)\n",
      " |-- line2: string (nullable = true)\n",
      " |-- zipcode: string (nullable = true)\n",
      " |-- city: string (nullable = true)\n",
      " |-- country: string (nullable = true)\n",
      " |-- complete_address: string (nullable = true)\n",
      " |-- md5: string (nullable = true)\n",
      "\n",
      "+--------------------+--------------------+--------------------+------------+---------+-------+--------+--------------------+--------------------+--------------------+\n",
      "|           fuzz_info|                  id|           person_id|       line1|    line2|zipcode|    city|             country|    complete_address|                 md5|\n",
      "+--------------------+--------------------+--------------------+------------+---------+-------+--------+--------------------+--------------------+--------------------+\n",
      "|{100, 052e9e002ae...|04d55d06-dd08-47d...|00127c8f-5fd6-433...|Keith Tunnel|Suite 800|  74528|Janeport|Sao Tome and Prin...|KEITH TUNNEL,SUIT...|052e9e002ae645dde...|\n",
      "|{100, 052e9e002ae...|13a6fe85-f658-45d...|00127c8f-5fd6-433...|Keith Tunnel|Suite 800|  74528|Janeport|Sao Tome and Prin...|KEITH TUNNEL,SUIT...|052e9e002ae645dde...|\n",
      "|{100, 052e9e002ae...|32a2ce34-388e-434...|00127c8f-5fd6-433...|Keith Tunnel|Suite 800|  74528|Janeport|Sao Tome and Prin...|KEITH TUNNEL,SUIT...|052e9e002ae645dde...|\n",
      "|{100, 052e9e002ae...|4f94bd96-adb1-419...|00127c8f-5fd6-433...|Keith Tunnel|Suite 800|  74528|Janeport|Sao Tome and Prin...|KEITH TUNNEL,SUIT...|052e9e002ae645dde...|\n",
      "|{100, 052e9e002ae...|9240ee46-5f03-4b7...|00127c8f-5fd6-433...|Keith Tunnel|Suite 800|  74528|Janeport|Sao Tome and Prin...|KEITH TUNNEL,SUIT...|052e9e002ae645dde...|\n",
      "|{100, 052e9e002ae...|a3c8f5f4-b57a-4bd...|00127c8f-5fd6-433...|Keith Tunnel|Suite 800|  74528|Janeport|Sao Tome and Prin...|KEITH TUNNEL,SUIT...|052e9e002ae645dde...|\n",
      "|{100, 052e9e002ae...|04d55d06-dd08-47d...|00127c8f-5fd6-433...|Keith Tunnel|Suite 800|  74528|Janeport|Sao Tome and Prin...|KEITH TUNNEL,SUIT...|052e9e002ae645dde...|\n",
      "|{100, 052e9e002ae...|13a6fe85-f658-45d...|00127c8f-5fd6-433...|Keith Tunnel|Suite 800|  74528|Janeport|Sao Tome and Prin...|KEITH TUNNEL,SUIT...|052e9e002ae645dde...|\n",
      "|{100, 052e9e002ae...|32a2ce34-388e-434...|00127c8f-5fd6-433...|Keith Tunnel|Suite 800|  74528|Janeport|Sao Tome and Prin...|KEITH TUNNEL,SUIT...|052e9e002ae645dde...|\n",
      "|{100, 052e9e002ae...|4f94bd96-adb1-419...|00127c8f-5fd6-433...|Keith Tunnel|Suite 800|  74528|Janeport|Sao Tome and Prin...|KEITH TUNNEL,SUIT...|052e9e002ae645dde...|\n",
      "+--------------------+--------------------+--------------------+------------+---------+-------+--------+--------------------+--------------------+--------------------+\n",
      "only showing top 10 rows\n",
      "\n"
     ]
    }
   ],
   "source": [
    "conditions = [addresses_grouped_norm_df.person_id == address_df.person_id, (addresses_grouped_norm_df.fuzz_info.md5_pair_0 == address_df.md5) | (addresses_grouped_norm_df.fuzz_info.md5_pair_1 == address_df.md5)]\n",
    "#addresses_joined_df = addresses_grouped_norm_df.join(address_df, (addresses_grouped_norm_df.person_id == address_df.person_id) & ((addresses_grouped_norm_df.fuzz_info.md5_pair_0 == address_df.md5) | (addresses_grouped_norm_df.fuzz_info.md5_pair_1 == address_df.md5)), \"left\")\n",
    "#print(addresses_grouped_norm_df.join(address_df, (addresses_grouped_norm_df.person_id == address_df.person_id) & ((addresses_grouped_norm_df.fuzz_info.md5_pair_0 == address_df.md5) | (addresses_grouped_norm_df.fuzz_info.md5_pair_1 == address_df.md5)), \"left\").count())\n",
    "addresses_joined_df = addresses_grouped_norm_df.join(address_df, conditions, \"left\").drop(address_df.person_id)\n",
    "addresses_joined_df.printSchema()\n",
    "addresses_joined_df.show(10)"
   ]
  },
  {
   "cell_type": "markdown",
   "metadata": {},
   "source": [
    "### Saving results"
   ]
  },
  {
   "cell_type": "code",
   "execution_count": 9,
   "metadata": {},
   "outputs": [],
   "source": [
    "addresses_joined_df.write.mode('overwrite').parquet(\"addresses_filtered\")"
   ]
  },
  {
   "cell_type": "code",
   "execution_count": null,
   "metadata": {},
   "outputs": [],
   "source": []
  },
  {
   "cell_type": "code",
   "execution_count": null,
   "metadata": {},
   "outputs": [],
   "source": []
  },
  {
   "cell_type": "code",
   "execution_count": null,
   "metadata": {},
   "outputs": [],
   "source": []
  }
 ],
 "metadata": {
  "kernelspec": {
   "display_name": "Python 3 (ipykernel)",
   "language": "python",
   "name": "python3"
  },
  "language_info": {
   "codemirror_mode": {
    "name": "ipython",
    "version": 3
   },
   "file_extension": ".py",
   "mimetype": "text/x-python",
   "name": "python",
   "nbconvert_exporter": "python",
   "pygments_lexer": "ipython3",
   "version": "3.9.12"
  }
 },
 "nbformat": 4,
 "nbformat_minor": 4
}
