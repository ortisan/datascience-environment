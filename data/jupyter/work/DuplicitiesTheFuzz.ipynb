{
 "cells": [
  {
   "cell_type": "code",
   "execution_count": 1,
   "metadata": {},
   "outputs": [
    {
     "name": "stdout",
     "output_type": "stream",
     "text": [
      "Requirement already satisfied: thefuzz in /opt/conda/lib/python3.9/site-packages (0.19.0)\n"
     ]
    }
   ],
   "source": [
    "# Install packages\n",
    "import sys\n",
    "import os\n",
    "import findspark\n",
    "\n",
    "!{sys.executable} -m pip install thefuzz\n",
    "\n",
    "# Import java packages\n",
    "os.environ['PYSPARK_SUBMIT_ARGS'] = '--driver-class-path /home/marcelo/libs/mysql-connector-java-8.0.19.jar --jars /home/marcelo/libs/mysql-connector-java-8.0.19.jar pyspark-shell'\n",
    "findspark.add_packages('mysql:mysql-connector-java:8.0.19')"
   ]
  },
  {
   "cell_type": "code",
   "execution_count": 2,
   "metadata": {},
   "outputs": [
    {
     "name": "stderr",
     "output_type": "stream",
     "text": [
      "/opt/conda/lib/python3.9/site-packages/thefuzz/fuzz.py:11: UserWarning: Using slow pure-python SequenceMatcher. Install python-Levenshtein to remove this warning\n",
      "  warnings.warn('Using slow pure-python SequenceMatcher. Install python-Levenshtein to remove this warning')\n"
     ]
    }
   ],
   "source": [
    "import re\n",
    "from pyspark.sql import SparkSession\n",
    "from pyspark.sql import functions as F\n",
    "from pyspark.sql.functions import col, concat_ws, explode, size, to_timestamp, udf, upper\n",
    "from pyspark.sql.types import ArrayType, StructType, StructField, IntegerType, StringType\n",
    "\n",
    "from itertools import combinations\n",
    "import hashlib\n",
    "from thefuzz import fuzz\n",
    "from thefuzz import process"
   ]
  },
  {
   "cell_type": "code",
   "execution_count": 3,
   "metadata": {},
   "outputs": [],
   "source": [
    "spark = SparkSession \\\n",
    "    .builder \\\n",
    "    .appName('POC ETL') \\\n",
    "    .master(\"local[*]\") \\\n",
    "    .getOrCreate()"
   ]
  },
  {
   "cell_type": "markdown",
   "metadata": {},
   "source": [
    "### Reading Data From JDBC"
   ]
  },
  {
   "cell_type": "code",
   "execution_count": 4,
   "metadata": {},
   "outputs": [
    {
     "name": "stdout",
     "output_type": "stream",
     "text": [
      "root\n",
      " |-- id: string (nullable = true)\n",
      " |-- person_id: string (nullable = true)\n",
      " |-- line1: string (nullable = true)\n",
      " |-- line2: string (nullable = true)\n",
      " |-- zipcode: string (nullable = true)\n",
      " |-- city: string (nullable = true)\n",
      " |-- country: string (nullable = true)\n",
      "\n",
      "+---+---------+-----+-----+-------+----+-------+\n",
      "| id|person_id|line1|line2|zipcode|city|country|\n",
      "+---+---------+-----+-----+-------+----+-------+\n",
      "+---+---------+-----+-----+-------+----+-------+\n",
      "\n"
     ]
    }
   ],
   "source": [
    "address_df = spark.read.format(\"jdbc\") \\\n",
    "    .option(\"url\", \"jdbc:mysql://mysql:3306/persondb\") \\\n",
    "    .option(\"driver\", \"com.mysql.jdbc.Driver\").option(\"dbtable\", \"address\") \\\n",
    "    .option(\"user\", \"root\").option(\"password\", \"123456\").load()\n",
    "\n",
    "address_df.printSchema()\n",
    "address_df.show(10)"
   ]
  },
  {
   "cell_type": "markdown",
   "metadata": {},
   "source": [
    "### ETL"
   ]
  },
  {
   "cell_type": "code",
   "execution_count": 5,
   "metadata": {},
   "outputs": [],
   "source": [
    "def md5_str(val):\n",
    "    result = hashlib.md5(val.encode())\n",
    "    return str(result.hexdigest())\n",
    "\n",
    "@udf(returnType=StringType())\n",
    "def md5_udf_func(val):\n",
    "    return md5_str(val)\n",
    "\n",
    "\n",
    "@udf(returnType=ArrayType(StructType([\n",
    "    StructField(\"ratio\", IntegerType(), False),\n",
    "    StructField(\"md5_pair_0\", StringType(), False),\n",
    "    StructField(\"md5_pair_1\", StringType(), False)\n",
    "    ]))\n",
    ")\n",
    "def fuzz_udf_func(arr):\n",
    "    return [[fuzz.ratio(comb[0], comb[1]), md5_str(comb[0]), md5_str(comb[1])] for comb in list(combinations(arr, 2))\n",
    "]"
   ]
  },
  {
   "cell_type": "code",
   "execution_count": 6,
   "metadata": {},
   "outputs": [
    {
     "name": "stdout",
     "output_type": "stream",
     "text": [
      "root\n",
      " |-- id: string (nullable = true)\n",
      " |-- person_id: string (nullable = true)\n",
      " |-- line1: string (nullable = true)\n",
      " |-- line2: string (nullable = true)\n",
      " |-- zipcode: string (nullable = true)\n",
      " |-- city: string (nullable = true)\n",
      " |-- country: string (nullable = true)\n",
      " |-- complete_address: string (nullable = false)\n",
      " |-- md5: string (nullable = true)\n",
      "\n",
      "+---+---------+-----+-----+-------+----+-------+----------------+---+\n",
      "| id|person_id|line1|line2|zipcode|city|country|complete_address|md5|\n",
      "+---+---------+-----+-----+-------+----+-------+----------------+---+\n",
      "+---+---------+-----+-----+-------+----+-------+----------------+---+\n",
      "\n"
     ]
    }
   ],
   "source": [
    "address_df = address_df.withColumn(\"complete_address\", concat_ws(\",\",\"line1\",'line2','zipcode','city','country'))\n",
    "address_df = address_df.withColumn(\"complete_address\", upper('complete_address')).withColumn(\"md5\", md5_udf_func('complete_address'))\n",
    "address_df.printSchema()\n",
    "address_df.show(10)"
   ]
  },
  {
   "cell_type": "markdown",
   "metadata": {},
   "source": [
    "### Grouping"
   ]
  },
  {
   "cell_type": "code",
   "execution_count": 7,
   "metadata": {},
   "outputs": [
    {
     "name": "stdout",
     "output_type": "stream",
     "text": [
      "root\n",
      " |-- person_id: string (nullable = true)\n",
      " |-- addresses: array (nullable = false)\n",
      " |    |-- element: string (containsNull = false)\n",
      " |-- addresses_size: integer (nullable = false)\n",
      " |-- fuzz_info: array (nullable = true)\n",
      " |    |-- element: struct (containsNull = true)\n",
      " |    |    |-- ratio: integer (nullable = false)\n",
      " |    |    |-- md5_pair_0: string (nullable = false)\n",
      " |    |    |-- md5_pair_1: string (nullable = false)\n",
      "\n",
      "+---------+---------+--------------+---------+\n",
      "|person_id|addresses|addresses_size|fuzz_info|\n",
      "+---------+---------+--------------+---------+\n",
      "+---------+---------+--------------+---------+\n",
      "\n",
      "+---------+-----+----------+----------+\n",
      "|person_id|ratio|md5_pair_0|md5_pair_1|\n",
      "+---------+-----+----------+----------+\n",
      "+---------+-----+----------+----------+\n",
      "\n"
     ]
    }
   ],
   "source": [
    "addresses_grouped_df = address_df.groupBy('person_id').agg(F.collect_list(\"complete_address\").alias('addresses'))\n",
    "addresses_grouped_df = addresses_grouped_df.withColumn('addresses_size', size(\"addresses\"))\n",
    "addresses_grouped_df = addresses_grouped_df.where(col(\"addresses_size\") > 1)\n",
    "addresses_grouped_df = addresses_grouped_df.withColumn(\"fuzz_info\", fuzz_udf_func('addresses'))\n",
    "addresses_grouped_df.printSchema()\n",
    "addresses_grouped_df.show(10)\n",
    "addresses_grouped_df.select(\"person_id\", \"fuzz_info.ratio\", \"fuzz_info.md5_pair_0\", \"fuzz_info.md5_pair_1\").show(10)"
   ]
  },
  {
   "cell_type": "markdown",
   "metadata": {},
   "source": [
    "### Normalize"
   ]
  },
  {
   "cell_type": "code",
   "execution_count": 8,
   "metadata": {},
   "outputs": [
    {
     "name": "stdout",
     "output_type": "stream",
     "text": [
      "root\n",
      " |-- person_id: string (nullable = true)\n",
      " |-- fuzz_info: struct (nullable = true)\n",
      " |    |-- ratio: integer (nullable = false)\n",
      " |    |-- md5_pair_0: string (nullable = false)\n",
      " |    |-- md5_pair_1: string (nullable = false)\n",
      "\n",
      "+---------+---------+\n",
      "|person_id|fuzz_info|\n",
      "+---------+---------+\n",
      "+---------+---------+\n",
      "\n"
     ]
    }
   ],
   "source": [
    "addresses_grouped_norm_df = addresses_grouped_df.select(\"person_id\", explode(\"fuzz_info\").alias('fuzz_info'))\n",
    "addresses_grouped_norm_df.printSchema()\n",
    "addresses_grouped_norm_df.show(10)"
   ]
  },
  {
   "cell_type": "markdown",
   "metadata": {},
   "source": [
    "### Joining dataframes"
   ]
  },
  {
   "cell_type": "code",
   "execution_count": 9,
   "metadata": {},
   "outputs": [
    {
     "name": "stdout",
     "output_type": "stream",
     "text": [
      "root\n",
      " |-- fuzz_info: struct (nullable = true)\n",
      " |    |-- ratio: integer (nullable = false)\n",
      " |    |-- md5_pair_0: string (nullable = false)\n",
      " |    |-- md5_pair_1: string (nullable = false)\n",
      " |-- id: string (nullable = true)\n",
      " |-- person_id: string (nullable = true)\n",
      " |-- line1: string (nullable = true)\n",
      " |-- line2: string (nullable = true)\n",
      " |-- zipcode: string (nullable = true)\n",
      " |-- city: string (nullable = true)\n",
      " |-- country: string (nullable = true)\n",
      " |-- complete_address: string (nullable = true)\n",
      " |-- md5: string (nullable = true)\n",
      "\n",
      "+---------+---+---------+-----+-----+-------+----+-------+----------------+---+\n",
      "|fuzz_info| id|person_id|line1|line2|zipcode|city|country|complete_address|md5|\n",
      "+---------+---+---------+-----+-----+-------+----+-------+----------------+---+\n",
      "+---------+---+---------+-----+-----+-------+----+-------+----------------+---+\n",
      "\n"
     ]
    }
   ],
   "source": [
    "conditions = [addresses_grouped_norm_df.person_id == address_df.person_id, (addresses_grouped_norm_df.fuzz_info.md5_pair_0 == address_df.md5) | (addresses_grouped_norm_df.fuzz_info.md5_pair_1 == address_df.md5)]\n",
    "#addresses_joined_df = addresses_grouped_norm_df.join(address_df, (addresses_grouped_norm_df.person_id == address_df.person_id) & ((addresses_grouped_norm_df.fuzz_info.md5_pair_0 == address_df.md5) | (addresses_grouped_norm_df.fuzz_info.md5_pair_1 == address_df.md5)), \"left\")\n",
    "#print(addresses_grouped_norm_df.join(address_df, (addresses_grouped_norm_df.person_id == address_df.person_id) & ((addresses_grouped_norm_df.fuzz_info.md5_pair_0 == address_df.md5) | (addresses_grouped_norm_df.fuzz_info.md5_pair_1 == address_df.md5)), \"left\").count())\n",
    "addresses_joined_df = addresses_grouped_norm_df.join(address_df, conditions, \"left\").drop(address_df.person_id)\n",
    "addresses_joined_df.printSchema()\n",
    "addresses_joined_df.show(10)"
   ]
  },
  {
   "cell_type": "markdown",
   "metadata": {},
   "source": [
    "### Saving results"
   ]
  },
  {
   "cell_type": "code",
   "execution_count": 10,
   "metadata": {},
   "outputs": [],
   "source": [
    "addresses_joined_df.write.mode('overwrite').parquet(\"addresses_filtered\")"
   ]
  },
  {
   "cell_type": "code",
   "execution_count": null,
   "metadata": {},
   "outputs": [],
   "source": []
  },
  {
   "cell_type": "code",
   "execution_count": null,
   "metadata": {},
   "outputs": [],
   "source": []
  },
  {
   "cell_type": "code",
   "execution_count": null,
   "metadata": {},
   "outputs": [],
   "source": []
  }
 ],
 "metadata": {
  "kernelspec": {
   "display_name": "Python 3 (ipykernel)",
   "language": "python",
   "name": "python3"
  },
  "language_info": {
   "codemirror_mode": {
    "name": "ipython",
    "version": 3
   },
   "file_extension": ".py",
   "mimetype": "text/x-python",
   "name": "python",
   "nbconvert_exporter": "python",
   "pygments_lexer": "ipython3",
   "version": "3.9.12"
  }
 },
 "nbformat": 4,
 "nbformat_minor": 4
}
