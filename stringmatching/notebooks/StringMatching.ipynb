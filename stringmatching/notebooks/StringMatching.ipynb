{
 "cells": [
  {
   "cell_type": "code",
   "execution_count": 4,
   "id": "99e4f9bd-e2df-403e-b286-da9408083d86",
   "metadata": {},
   "outputs": [
    {
     "name": "stdout",
     "output_type": "stream",
     "text": [
      "Requirement already satisfied: jellyfish in /opt/conda/lib/python3.9/site-packages (0.9.0)\n"
     ]
    }
   ],
   "source": [
    "# Install packages\n",
    "import sys\n",
    "import os\n",
    "import findspark\n",
    "!{sys.executable} -m pip install jellyfish\n",
    "\n",
    "# Import java packages\n",
    "os.environ['PYSPARK_SUBMIT_ARGS'] = '--driver-class-path /home/marcelo/libs/mysql-connector-java-8.0.19.jar --jars /home/marcelo/libs/mysql-connector-java-8.0.19.jar pyspark-shell'\n",
    "findspark.add_packages('mysql:mysql-connector-java:8.0.19')\n"
   ]
  },
  {
   "cell_type": "code",
   "execution_count": 6,
   "id": "7bbc3410-a9af-4bed-a0e7-255dd3da48d8",
   "metadata": {},
   "outputs": [],
   "source": [
    "import re\n",
    "from pyspark.sql import SparkSession\n",
    "from pyspark.sql import functions as F\n",
    "from pyspark.sql.functions import col, concat_ws, explode, size, to_timestamp, udf, upper\n",
    "from pyspark.sql.types import ArrayType, StructType, StructField, IntegerType, StringType\n",
    "\n",
    "from itertools import combinations\n",
    "import hashlib"
   ]
  },
  {
   "cell_type": "code",
   "execution_count": 19,
   "id": "e965bebc-a1af-49f4-a8ce-592680c47920",
   "metadata": {},
   "outputs": [
    {
     "data": {
      "text/plain": [
       "6"
      ]
     },
     "execution_count": 45,
     "metadata": {},
     "output_type": "execute_result"
    }
   ],
   "source": [
    "import jellyfish\n",
    "jellyfish.levenshtein_distance(u'Wagner', u'Vagner')"
   ]
  },
  {
   "cell_type": "code",
   "execution_count": 66,
   "id": "205a2ded-e933-4350-8be5-1e2a355da9d4",
   "metadata": {},
   "outputs": [
    {
     "data": {
      "text/plain": [
       "4"
      ]
     },
     "execution_count": 66,
     "metadata": {},
     "output_type": "execute_result"
    }
   ],
   "source": [
    "jellyfish.damerau_levenshtein_distance(u'Marcelo O de Santana', u'Marcelo Ortiz de Santana')"
   ]
  },
  {
   "cell_type": "code",
   "execution_count": 18,
   "id": "f281bd6e-ae0f-4361-a18f-57c09df3b116",
   "metadata": {},
   "outputs": [
    {
     "data": {
      "text/plain": [
       "0.888888888888889"
      ]
     },
     "execution_count": 18,
     "metadata": {},
     "output_type": "execute_result"
    }
   ],
   "source": [
    "jellyfish.jaro_distance(u'Wagner', u'Vagner')"
   ]
  },
  {
   "cell_type": "code",
   "execution_count": 58,
   "id": "f2f2147a-68ef-4c63-a04c-d48376dfac0d",
   "metadata": {},
   "outputs": [
    {
     "data": {
      "text/plain": [
       "0.9266666666666667"
      ]
     },
     "execution_count": 58,
     "metadata": {},
     "output_type": "execute_result"
    }
   ],
   "source": [
    "jellyfish.jaro_winkler_similarity(u'Marcelo Ortiz de Santana', u'Marcelo O de Santana')"
   ]
  },
  {
   "cell_type": "code",
   "execution_count": 64,
   "id": "19df2d74-e36b-431d-be12-52a72e9299ea",
   "metadata": {},
   "outputs": [
    {
     "data": {
      "text/plain": [
       "0.9333333333333333"
      ]
     },
     "execution_count": 64,
     "metadata": {},
     "output_type": "execute_result"
    }
   ],
   "source": [
    "jellyfish.jaro_winkler_similarity(u'Marcos Pereira', u'Marcos Pereira Junior')"
   ]
  },
  {
   "cell_type": "code",
   "execution_count": 50,
   "id": "c881d759-f289-4dd7-a57b-33dee70c4ad1",
   "metadata": {},
   "outputs": [
    {
     "data": {
      "text/plain": [
       "0.8492063492063492"
      ]
     },
     "execution_count": 50,
     "metadata": {},
     "output_type": "execute_result"
    }
   ],
   "source": [
    "jellyfish.jaro_winkler_similarity(u'Waginer', u'Vagner')"
   ]
  },
  {
   "cell_type": "code",
   "execution_count": 22,
   "id": "dd250188-0261-4fb0-b2a7-9dddae9522c7",
   "metadata": {},
   "outputs": [
    {
     "data": {
      "text/plain": [
       "1"
      ]
     },
     "execution_count": 22,
     "metadata": {},
     "output_type": "execute_result"
    }
   ],
   "source": [
    "jellyfish.damerau_levenshtein_distance(u'Wagner', u'Vagner')"
   ]
  },
  {
   "cell_type": "code",
   "execution_count": 31,
   "id": "d1e72991-f76d-42d6-b5a7-72d3c6f06ea1",
   "metadata": {},
   "outputs": [
    {
     "name": "stdout",
     "output_type": "stream",
     "text": [
      "WKNR FKNR\n"
     ]
    },
    {
     "data": {
      "text/plain": [
       "1"
      ]
     },
     "execution_count": 31,
     "metadata": {},
     "output_type": "execute_result"
    }
   ],
   "source": [
    "s1 = jellyfish.metaphone(u'Wagner')\n",
    "s2 = jellyfish.metaphone(u'Vagner')\n",
    "print(s1,s2)\n",
    "jellyfish.levenshtein_distance(s1, s2)"
   ]
  },
  {
   "cell_type": "code",
   "execution_count": 32,
   "id": "9f7c0623-6d28-49cc-adf9-5f8d9dd6ec80",
   "metadata": {},
   "outputs": [
    {
     "name": "stdout",
     "output_type": "stream",
     "text": [
      "W256 V256\n"
     ]
    },
    {
     "data": {
      "text/plain": [
       "1"
      ]
     },
     "execution_count": 32,
     "metadata": {},
     "output_type": "execute_result"
    }
   ],
   "source": [
    "s1 = jellyfish.soundex(u'Wagner')\n",
    "s2 = jellyfish.soundex(u'Vagner')\n",
    "print(s1,s2)\n",
    "jellyfish.levenshtein_distance(s1, s2)"
   ]
  },
  {
   "cell_type": "code",
   "execution_count": 33,
   "id": "742985d8-73b8-41b4-ac9e-82a371ae30a0",
   "metadata": {},
   "outputs": [
    {
     "name": "stdout",
     "output_type": "stream",
     "text": [
      "WAGNAR VAGNAR\n"
     ]
    },
    {
     "data": {
      "text/plain": [
       "1"
      ]
     },
     "execution_count": 33,
     "metadata": {},
     "output_type": "execute_result"
    }
   ],
   "source": [
    "s1 = jellyfish.nysiis(u'Wagner')\n",
    "s2 = jellyfish.nysiis(u'Vagner')\n",
    "print(s1,s2)\n",
    "jellyfish.levenshtein_distance(s1, s2)"
   ]
  },
  {
   "cell_type": "code",
   "execution_count": 34,
   "id": "d1102aac-f371-4dae-b9a2-9f8909d310ff",
   "metadata": {},
   "outputs": [
    {
     "name": "stdout",
     "output_type": "stream",
     "text": [
      "GASTAV FARNAND\n"
     ]
    },
    {
     "data": {
      "text/plain": [
       "5"
      ]
     },
     "execution_count": 34,
     "metadata": {},
     "output_type": "execute_result"
    }
   ],
   "source": [
    "s1 = jellyfish.nysiis(u'Gustavo')\n",
    "s2 = jellyfish.nysiis(u'Fernanda')\n",
    "print(s1,s2)\n",
    "jellyfish.levenshtein_distance(s1, s2)"
   ]
  },
  {
   "cell_type": "code",
   "execution_count": 40,
   "id": "ec6a3786-4c98-41c7-8990-a32f6d31b895",
   "metadata": {},
   "outputs": [
    {
     "name": "stdout",
     "output_type": "stream",
     "text": [
      "VGNR VLM\n"
     ]
    }
   ],
   "source": [
    "s1 = jellyfish.match_rating_codex(u'Vagner')\n",
    "s2 = jellyfish.match_rating_codex(u'Vilma')\n",
    "print(s1,s2)"
   ]
  },
  {
   "cell_type": "code",
   "execution_count": 41,
   "id": "62003811-c8e7-4f6e-a55d-542534bdf213",
   "metadata": {},
   "outputs": [
    {
     "name": "stdout",
     "output_type": "stream",
     "text": [
      "VGNR WGNR\n"
     ]
    }
   ],
   "source": [
    "s1 = jellyfish.match_rating_codex(u'Vagner')\n",
    "s2 = jellyfish.match_rating_codex(u'Wagner')\n",
    "print(s1,s2)"
   ]
  },
  {
   "cell_type": "code",
   "execution_count": 42,
   "id": "e5465aec-9756-41bf-ace9-8a3934636fb7",
   "metadata": {},
   "outputs": [
    {
     "data": {
      "text/plain": [
       "True"
      ]
     },
     "execution_count": 42,
     "metadata": {},
     "output_type": "execute_result"
    }
   ],
   "source": [
    "s1 = jellyfish.nysiis(u'Vagner')\n",
    "s2 = jellyfish.nysiis(u'Vilma')\n",
    "jellyfish.match_rating_comparison(s1, s2)"
   ]
  },
  {
   "cell_type": "code",
   "execution_count": 46,
   "id": "fe9d02cd-68e9-48d8-b85f-c4f88ce04de5",
   "metadata": {},
   "outputs": [
    {
     "name": "stdout",
     "output_type": "stream",
     "text": [
      "Marcelo Ortiz Marcelo Ortiz de Santana\n"
     ]
    }
   ],
   "source": [
    "s1 = jellyfish.porter_stem(u'Marcelo Ortiz')\n",
    "s2 = jellyfish.porter_stem(u'Marcelo Ortiz de Santana')\n",
    "print(s1,s2)"
   ]
  },
  {
   "cell_type": "code",
   "execution_count": null,
   "id": "c15d83eb-8449-4d70-8d28-b8d69fa62d8c",
   "metadata": {},
   "outputs": [],
   "source": []
  }
 ],
 "metadata": {
  "kernelspec": {
   "display_name": "Python 3 (ipykernel)",
   "language": "python",
   "name": "python3"
  },
  "language_info": {
   "codemirror_mode": {
    "name": "ipython",
    "version": 3
   },
   "file_extension": ".py",
   "mimetype": "text/x-python",
   "name": "python",
   "nbconvert_exporter": "python",
   "pygments_lexer": "ipython3",
   "version": "3.9.12"
  }
 },
 "nbformat": 4,
 "nbformat_minor": 5
}
